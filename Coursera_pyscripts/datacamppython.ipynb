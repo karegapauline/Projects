# -*- coding: utf-8 -*-
"""
Created on Wed Aug 17 18:53:25 2022

@author: ADMIN
"""

def rounded(num):
    num = round(num, 2)
    return(num)


def to_smash(total_candies, n=3):
    """Return the number of leftover candies that must be smashed after distributing
    the given number of candies evenly between n friends.
    
    >>> to_smash(91)
    1
    """
    return total_candies % n

#def can_code_for_protein(seq):
    """read sequence from a different location into this code, the get length, then read
    ORFs to translate, then tell me if it can translate or not.
    """
 #   seq=
  #  translated=
   # return
   
def is_odd(num):
    if (num % 2 == 0):
        return("False; is even")
    else:
        return("True; is odd")
    

def is_odd2(n):
    return (n % 2) == 1

print("Is 100 odd?", is_odd2(100))
print("Is -1 odd?", is_odd2(-1))

def sign2(num):
    if num < 0:
        return("it's negative")
    elif num > 0:
        return("it's positive")
    else:
        return("it's a zero")


# In the cell below, define a function called sign which takes a numerical argument and returns -1 if it's negative, 1 if it's positive, and 0 if it's 0.
# Your code goes here. Define a function called 'sign'
def sign(num):
    if num < 0:
        return(-1)
    elif num > 0:
        return(1)
    else:
        return(0)
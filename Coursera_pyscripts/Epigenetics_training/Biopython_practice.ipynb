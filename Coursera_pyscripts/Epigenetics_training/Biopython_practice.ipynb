{
 "cells": [
  {
   "cell_type": "code",
   "execution_count": null,
   "metadata": {},
   "outputs": [],
   "source": [
    "import sys\n",
    "from Bio import SeqIO\n",
    "\n",
    "def sequence_cleaner(fasta_file, min_length=0, por_n=100):\n",
    "\n",
    "    #create our hash table to add the sequences\n",
    "    sequences = {}\n",
    "\n",
    "    # Using the Biopython fasta parse we can read our fasta input\n",
    "    for seq_record in SeqIO.parse(fasta_file, \"fasta\"): \n",
    "\n",
    "        # Take the current sequence\n",
    "        sequence = str(seq_record.seq).upper()\n",
    "\n",
    "        # Check if the current sequence is according to the user parameters\n",
    "        if ( len(sequence) >= min_length and (float(sequence.count(\"N\")) / float(len(sequence))) * 100 <= por_n ):\n",
    "\n",
    "            # hash table, the sequence and its id are going to be in the hash\n",
    "            if sequence not in sequences:\n",
    "                sequences[sequence] = seq_record.id\n",
    "\n",
    "            # If it is already in the hash table, we're just gonna concatenate the ID\n",
    "            # of the current sequence to another one that is already in the hash table\n",
    "            else:\n",
    "                sequences[sequence] += \"_\" + seq_record.id\n",
    "\n",
    "    # Write the sequences to file\n",
    "    # Create a file in the same directory where you ran this script\n",
    "    with open(\"clear_\" + fasta_file, \"w+\") as output_file:\n",
    "\n",
    "        # Just read the hash table and write on the file as a fasta format\n",
    "        for sequence in sequences:\n",
    "            output_file.write(\">\" + sequences[sequence] + \"\\n\" + sequence + \"\\n\") \n",
    "\n",
    "    print(\"CLEAN!!!\\nPlease check clear_\" + fasta_file) \n",
    "\n",
    "\n",
    "userParameters = sys.argv[1:] \n",
    "\n",
    "try:\n",
    "    if len(userParameters) == 1:\n",
    "        sequence_cleaner(userParameters[0])\n",
    "    elif len(userParameters) == 2:\n",
    "        sequence_cleaner(userParameters[0],float(userParameters[1]))\n",
    "    elif len(userParameters) == 3:\n",
    "        sequence_cleaner(userParameters[0],float(userParameters[1]),float(userParameters[2]))\n",
    "    else:\n",
    "        print(\"There is a problem!\")\n",
    "except:\n",
    "    print(\"There is a problem!\")\n"
   ]
  }
 ],
 "metadata": {
  "kernelspec": {
   "display_name": "Python 3",
   "language": "python",
   "name": "python3"
  },
  "language_info": {
   "codemirror_mode": {
    "name": "ipython",
    "version": 3
   },
   "file_extension": ".py",
   "mimetype": "text/x-python",
   "name": "python",
   "nbconvert_exporter": "python",
   "pygments_lexer": "ipython3",
   "version": "3.7.6"
  }
 },
 "nbformat": 4,
 "nbformat_minor": 4
}

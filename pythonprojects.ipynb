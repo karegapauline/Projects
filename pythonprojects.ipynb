{
  "nbformat": 4,
  "nbformat_minor": 0,
  "metadata": {
    "colab": {
      "name": "pythonprojects.ipynb",
      "provenance": [],
      "authorship_tag": "ABX9TyOmegX4EAwJT5df/i1VrEAf",
      "include_colab_link": true
    },
    "kernelspec": {
      "name": "python3",
      "display_name": "Python 3"
    },
    "language_info": {
      "name": "python"
    }
  },
  "cells": [
    {
      "cell_type": "markdown",
      "metadata": {
        "id": "view-in-github",
        "colab_type": "text"
      },
      "source": [
        "<a href=\"https://colab.research.google.com/github/karegapauline/Projects/blob/master/pythonprojects.ipynb\" target=\"_parent\"><img src=\"https://colab.research.google.com/assets/colab-badge.svg\" alt=\"Open In Colab\"/></a>"
      ]
    },
    {
      "cell_type": "code",
      "metadata": {
        "id": "vX5VQcYHD8wS"
      },
      "source": [
        "def rounded(num):\n",
        "    num = round(num, 2)\n",
        "    return(num)"
      ],
      "execution_count": null,
      "outputs": []
    },
    {
      "cell_type": "code",
      "metadata": {
        "id": "jS8eT56CDpSu",
        "colab": {
          "base_uri": "https://localhost:8080/"
        },
        "outputId": "493eb88a-24b6-4b23-e590-eac8fa1d1d80"
      },
      "source": [
        "rounded(18.9999)"
      ],
      "execution_count": null,
      "outputs": [
        {
          "output_type": "execute_result",
          "data": {
            "text/plain": [
              "19.0"
            ]
          },
          "metadata": {},
          "execution_count": 2
        }
      ]
    },
    {
      "cell_type": "code",
      "source": [
        "s = \"abcde\"\n",
        "print(s.split('c'))"
      ],
      "metadata": {
        "id": "8AKOplh0GXH1",
        "colab": {
          "base_uri": "https://localhost:8080/"
        },
        "outputId": "45820a29-6fb9-4dd6-8683-736f57c59d17"
      },
      "execution_count": 1,
      "outputs": [
        {
          "output_type": "stream",
          "name": "stdout",
          "text": [
            "['ab', 'de']\n"
          ]
        }
      ]
    },
    {
      "cell_type": "code",
      "source": [],
      "metadata": {
        "id": "FpBx3SNHHzL4"
      },
      "execution_count": null,
      "outputs": []
    }
  ]
}
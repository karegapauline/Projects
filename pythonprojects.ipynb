{
  "nbformat": 4,
  "nbformat_minor": 0,
  "metadata": {
    "colab": {
      "name": "pythonprojects.ipynb",
      "provenance": [],
      "authorship_tag": "ABX9TyMdmjMyoEHsrYlXF0ggkZIr",
      "include_colab_link": true
    },
    "kernelspec": {
      "name": "python3",
      "display_name": "Python 3"
    },
    "language_info": {
      "name": "python"
    }
  },
  "cells": [
    {
      "cell_type": "markdown",
      "metadata": {
        "id": "view-in-github",
        "colab_type": "text"
      },
      "source": [
        "<a href=\"https://colab.research.google.com/github/karegapauline/Projects/blob/master/pythonprojects.ipynb\" target=\"_parent\"><img src=\"https://colab.research.google.com/assets/colab-badge.svg\" alt=\"Open In Colab\"/></a>"
      ]
    },
    {
      "cell_type": "code",
      "metadata": {
        "id": "vX5VQcYHD8wS"
      },
      "source": [
        "def rounded(num):\n",
        "    num = round(num, 2)\n",
        "    return(num)"
      ],
      "execution_count": null,
      "outputs": []
    },
    {
      "cell_type": "code",
      "metadata": {
        "id": "jS8eT56CDpSu",
        "colab": {
          "base_uri": "https://localhost:8080/"
        },
        "outputId": "493eb88a-24b6-4b23-e590-eac8fa1d1d80"
      },
      "source": [
        "rounded(18.9999)"
      ],
      "execution_count": null,
      "outputs": [
        {
          "output_type": "execute_result",
          "data": {
            "text/plain": [
              "19.0"
            ]
          },
          "metadata": {},
          "execution_count": 2
        }
      ]
    },
    {
      "cell_type": "code",
      "source": [
        "s = \"abcde\"\n",
        "print(s.split('c'))"
      ],
      "metadata": {
        "id": "8AKOplh0GXH1",
        "colab": {
          "base_uri": "https://localhost:8080/"
        },
        "outputId": "45820a29-6fb9-4dd6-8683-736f57c59d17"
      },
      "execution_count": 1,
      "outputs": [
        {
          "output_type": "stream",
          "name": "stdout",
          "text": [
            "['ab', 'de']\n"
          ]
        }
      ]
    },
    {
      "cell_type": "code",
      "source": [
        "d=dict(A=65,B=66,C=67)\n",
        "print(d)"
      ],
      "metadata": {
        "colab": {
          "base_uri": "https://localhost:8080/"
        },
        "id": "FpBx3SNHHzL4",
        "outputId": "9e77a9e7-9bb3-4227-ff03-faf5a8b0e81b"
      },
      "execution_count": 1,
      "outputs": [
        {
          "output_type": "stream",
          "name": "stdout",
          "text": [
            "{'A': 65, 'B': 66, 'C': 67}\n"
          ]
        }
      ]
    },
    {
      "cell_type": "code",
      "source": [
        "li=[2,3,1]\n",
        "print(li.pop(1))"
      ],
      "metadata": {
        "colab": {
          "base_uri": "https://localhost:8080/"
        },
        "id": "_mqxQ-HHIdBH",
        "outputId": "c09de7b2-370c-4047-b917-89ad7bc52676"
      },
      "execution_count": 2,
      "outputs": [
        {
          "output_type": "stream",
          "name": "stdout",
          "text": [
            "3\n"
          ]
        }
      ]
    },
    {
      "cell_type": "code",
      "source": [
        "s='\\n'\n",
        "print(s.split(),s.splitlines())"
      ],
      "metadata": {
        "colab": {
          "base_uri": "https://localhost:8080/"
        },
        "id": "ovC_Q0oTIyjs",
        "outputId": "6e3918de-00d4-4118-e445-f203c8075838"
      },
      "execution_count": 4,
      "outputs": [
        {
          "output_type": "stream",
          "name": "stdout",
          "text": [
            "[] ['']\n"
          ]
        }
      ]
    },
    {
      "cell_type": "code",
      "source": [
        "def foo():\n",
        "  try:\n",
        "    print(1, end=' ')\n",
        "  finally:\n",
        "    print(2)\n",
        "  k = foo()\n",
        "  print(k)"
      ],
      "metadata": {
        "id": "Kg8L0S3xJRzP"
      },
      "execution_count": 5,
      "outputs": []
    },
    {
      "cell_type": "code",
      "source": [
        "li=[10,20,30,40]\n",
        "li[1:3] = [50]\n",
        "print(li)"
      ],
      "metadata": {
        "colab": {
          "base_uri": "https://localhost:8080/"
        },
        "id": "-DmWSMVjL8m0",
        "outputId": "642632fe-4976-4e2c-e955-b7d8df8207cf"
      },
      "execution_count": 6,
      "outputs": [
        {
          "output_type": "stream",
          "name": "stdout",
          "text": [
            "[10, 50, 40]\n"
          ]
        }
      ]
    },
    {
      "cell_type": "code",
      "source": [
        "x = 2\n",
        "y =10\n",
        "x* = y*x+1"
      ],
      "metadata": {
        "colab": {
          "base_uri": "https://localhost:8080/",
          "height": 132
        },
        "id": "us7LZ_vDMklR",
        "outputId": "7c810309-526b-4f6f-ed0f-3841744c98fb"
      },
      "execution_count": 1,
      "outputs": [
        {
          "output_type": "error",
          "ename": "SyntaxError",
          "evalue": "ignored",
          "traceback": [
            "\u001b[0;36m  File \u001b[0;32m\"<ipython-input-1-7ba2904b8a0c>\"\u001b[0;36m, line \u001b[0;32m3\u001b[0m\n\u001b[0;31m    x * = y*x+1\u001b[0m\n\u001b[0m        ^\u001b[0m\n\u001b[0;31mSyntaxError\u001b[0m\u001b[0;31m:\u001b[0m invalid syntax\n"
          ]
        }
      ]
    },
    {
      "cell_type": "code",
      "source": [
        "#print (1 or 3)\n",
        "\n",
        "#print (1 and 3)\n",
        "\n",
        "#print (1 and 0 and 2)\n",
        "\n",
        "#print (0 and 2 or 1 or 4)\n",
        "\n",
        "print (0 or False and 1)"
      ],
      "metadata": {
        "id": "P02jBEXSnW1w",
        "outputId": "0c4956a3-b95f-4c82-9df5-0411ed7088e1",
        "colab": {
          "base_uri": "https://localhost:8080/"
        }
      },
      "execution_count": 11,
      "outputs": [
        {
          "output_type": "stream",
          "name": "stdout",
          "text": [
            "False\n"
          ]
        }
      ]
    }
  ]
}